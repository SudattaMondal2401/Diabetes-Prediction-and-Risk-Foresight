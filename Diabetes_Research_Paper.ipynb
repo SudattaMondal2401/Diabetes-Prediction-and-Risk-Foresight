{
 "cells": [
  {
   "cell_type": "markdown",
   "id": "d105ed8f",
   "metadata": {},
   "source": [
    "# Importing the main libraries"
   ]
  },
  {
   "cell_type": "code",
   "execution_count": 126,
   "id": "b41f81ff",
   "metadata": {},
   "outputs": [],
   "source": [
    "import pandas as pd\n",
    "import numpy as np\n",
    "import matplotlib.pyplot as plt\n",
    "import seaborn as sns "
   ]
  },
  {
   "cell_type": "markdown",
   "id": "c680bb0e",
   "metadata": {},
   "source": [
    "# Loading the dataset"
   ]
  },
  {
   "cell_type": "code",
   "execution_count": 127,
   "id": "8d13aff3",
   "metadata": {},
   "outputs": [],
   "source": [
    "path = \"D:\\\\Work\\\\My work\\\\Sem 3 research papers\\\\Diabetes Analysis\\\\diabetes (1).csv\""
   ]
  },
  {
   "cell_type": "code",
   "execution_count": 128,
   "id": "2d753b84",
   "metadata": {},
   "outputs": [],
   "source": [
    "dataset = pd.read_csv(path)"
   ]
  },
  {
   "cell_type": "markdown",
   "id": "188500d6",
   "metadata": {},
   "source": [
    "# Preliminary Viewing of Data"
   ]
  },
  {
   "cell_type": "code",
   "execution_count": 129,
   "id": "b6f77eb1",
   "metadata": {},
   "outputs": [
    {
     "data": {
      "text/html": [
       "<div>\n",
       "<style scoped>\n",
       "    .dataframe tbody tr th:only-of-type {\n",
       "        vertical-align: middle;\n",
       "    }\n",
       "\n",
       "    .dataframe tbody tr th {\n",
       "        vertical-align: top;\n",
       "    }\n",
       "\n",
       "    .dataframe thead th {\n",
       "        text-align: right;\n",
       "    }\n",
       "</style>\n",
       "<table border=\"1\" class=\"dataframe\">\n",
       "  <thead>\n",
       "    <tr style=\"text-align: right;\">\n",
       "      <th></th>\n",
       "      <th>Age</th>\n",
       "      <th>Gender</th>\n",
       "      <th>BMI</th>\n",
       "      <th>SBP</th>\n",
       "      <th>DBP</th>\n",
       "      <th>FPG</th>\n",
       "      <th>Chol</th>\n",
       "      <th>Tri</th>\n",
       "      <th>HDL</th>\n",
       "      <th>LDL</th>\n",
       "      <th>ALT</th>\n",
       "      <th>BUN</th>\n",
       "      <th>CCR</th>\n",
       "      <th>FFPG</th>\n",
       "      <th>smoking</th>\n",
       "      <th>drinking</th>\n",
       "      <th>family_histroy</th>\n",
       "      <th>Diabetes</th>\n",
       "    </tr>\n",
       "  </thead>\n",
       "  <tbody>\n",
       "    <tr>\n",
       "      <th>0</th>\n",
       "      <td>26</td>\n",
       "      <td>1</td>\n",
       "      <td>20.1</td>\n",
       "      <td>119</td>\n",
       "      <td>81</td>\n",
       "      <td>5.80</td>\n",
       "      <td>4.36</td>\n",
       "      <td>0.86</td>\n",
       "      <td>0.90</td>\n",
       "      <td>2.43</td>\n",
       "      <td>12.0</td>\n",
       "      <td>5.40</td>\n",
       "      <td>63.8</td>\n",
       "      <td>5.40</td>\n",
       "      <td>3.0</td>\n",
       "      <td>3.0</td>\n",
       "      <td>0</td>\n",
       "      <td>0</td>\n",
       "    </tr>\n",
       "    <tr>\n",
       "      <th>1</th>\n",
       "      <td>40</td>\n",
       "      <td>1</td>\n",
       "      <td>17.7</td>\n",
       "      <td>97</td>\n",
       "      <td>54</td>\n",
       "      <td>4.60</td>\n",
       "      <td>3.70</td>\n",
       "      <td>1.02</td>\n",
       "      <td>1.50</td>\n",
       "      <td>2.04</td>\n",
       "      <td>9.2</td>\n",
       "      <td>3.70</td>\n",
       "      <td>70.3</td>\n",
       "      <td>4.10</td>\n",
       "      <td>1.0</td>\n",
       "      <td>1.0</td>\n",
       "      <td>0</td>\n",
       "      <td>0</td>\n",
       "    </tr>\n",
       "    <tr>\n",
       "      <th>2</th>\n",
       "      <td>40</td>\n",
       "      <td>2</td>\n",
       "      <td>19.7</td>\n",
       "      <td>85</td>\n",
       "      <td>53</td>\n",
       "      <td>5.30</td>\n",
       "      <td>5.87</td>\n",
       "      <td>1.29</td>\n",
       "      <td>1.75</td>\n",
       "      <td>3.37</td>\n",
       "      <td>10.1</td>\n",
       "      <td>4.10</td>\n",
       "      <td>61.1</td>\n",
       "      <td>4.85</td>\n",
       "      <td>3.0</td>\n",
       "      <td>3.0</td>\n",
       "      <td>0</td>\n",
       "      <td>0</td>\n",
       "    </tr>\n",
       "    <tr>\n",
       "      <th>3</th>\n",
       "      <td>43</td>\n",
       "      <td>1</td>\n",
       "      <td>23.1</td>\n",
       "      <td>111</td>\n",
       "      <td>71</td>\n",
       "      <td>4.50</td>\n",
       "      <td>4.05</td>\n",
       "      <td>0.74</td>\n",
       "      <td>1.27</td>\n",
       "      <td>2.60</td>\n",
       "      <td>36.5</td>\n",
       "      <td>4.38</td>\n",
       "      <td>73.4</td>\n",
       "      <td>5.30</td>\n",
       "      <td>2.0</td>\n",
       "      <td>3.0</td>\n",
       "      <td>0</td>\n",
       "      <td>0</td>\n",
       "    </tr>\n",
       "    <tr>\n",
       "      <th>4</th>\n",
       "      <td>36</td>\n",
       "      <td>1</td>\n",
       "      <td>26.5</td>\n",
       "      <td>130</td>\n",
       "      <td>82</td>\n",
       "      <td>5.54</td>\n",
       "      <td>6.69</td>\n",
       "      <td>3.49</td>\n",
       "      <td>0.91</td>\n",
       "      <td>3.64</td>\n",
       "      <td>69.3</td>\n",
       "      <td>3.86</td>\n",
       "      <td>67.5</td>\n",
       "      <td>5.53</td>\n",
       "      <td>3.0</td>\n",
       "      <td>3.0</td>\n",
       "      <td>0</td>\n",
       "      <td>0</td>\n",
       "    </tr>\n",
       "  </tbody>\n",
       "</table>\n",
       "</div>"
      ],
      "text/plain": [
       "   Age  Gender   BMI  SBP  DBP   FPG  Chol   Tri   HDL   LDL   ALT   BUN  \\\n",
       "0   26       1  20.1  119   81  5.80  4.36  0.86  0.90  2.43  12.0  5.40   \n",
       "1   40       1  17.7   97   54  4.60  3.70  1.02  1.50  2.04   9.2  3.70   \n",
       "2   40       2  19.7   85   53  5.30  5.87  1.29  1.75  3.37  10.1  4.10   \n",
       "3   43       1  23.1  111   71  4.50  4.05  0.74  1.27  2.60  36.5  4.38   \n",
       "4   36       1  26.5  130   82  5.54  6.69  3.49  0.91  3.64  69.3  3.86   \n",
       "\n",
       "    CCR  FFPG  smoking  drinking  family_histroy  Diabetes  \n",
       "0  63.8  5.40      3.0       3.0               0         0  \n",
       "1  70.3  4.10      1.0       1.0               0         0  \n",
       "2  61.1  4.85      3.0       3.0               0         0  \n",
       "3  73.4  5.30      2.0       3.0               0         0  \n",
       "4  67.5  5.53      3.0       3.0               0         0  "
      ]
     },
     "execution_count": 129,
     "metadata": {},
     "output_type": "execute_result"
    }
   ],
   "source": [
    "dataset.head()"
   ]
  },
  {
   "cell_type": "code",
   "execution_count": 130,
   "id": "000e1ed2",
   "metadata": {},
   "outputs": [
    {
     "name": "stdout",
     "output_type": "stream",
     "text": [
      "<class 'pandas.core.frame.DataFrame'>\n",
      "RangeIndex: 4303 entries, 0 to 4302\n",
      "Data columns (total 18 columns):\n",
      " #   Column          Non-Null Count  Dtype  \n",
      "---  ------          --------------  -----  \n",
      " 0   Age             4303 non-null   int64  \n",
      " 1   Gender          4303 non-null   int64  \n",
      " 2   BMI             4303 non-null   float64\n",
      " 3   SBP             4303 non-null   int64  \n",
      " 4   DBP             4303 non-null   int64  \n",
      " 5   FPG             4303 non-null   float64\n",
      " 6   Chol            4303 non-null   float64\n",
      " 7   Tri             4303 non-null   float64\n",
      " 8   HDL             4303 non-null   float64\n",
      " 9   LDL             4303 non-null   float64\n",
      " 10  ALT             4303 non-null   float64\n",
      " 11  BUN             4303 non-null   float64\n",
      " 12  CCR             4303 non-null   float64\n",
      " 13  FFPG            4303 non-null   float64\n",
      " 14  smoking         4303 non-null   float64\n",
      " 15  drinking        4303 non-null   float64\n",
      " 16  family_histroy  4303 non-null   int64  \n",
      " 17  Diabetes        4303 non-null   int64  \n",
      "dtypes: float64(12), int64(6)\n",
      "memory usage: 605.2 KB\n"
     ]
    }
   ],
   "source": [
    "dataset.info()"
   ]
  },
  {
   "cell_type": "code",
   "execution_count": 131,
   "id": "2476618a",
   "metadata": {},
   "outputs": [
    {
     "data": {
      "text/html": [
       "<div>\n",
       "<style scoped>\n",
       "    .dataframe tbody tr th:only-of-type {\n",
       "        vertical-align: middle;\n",
       "    }\n",
       "\n",
       "    .dataframe tbody tr th {\n",
       "        vertical-align: top;\n",
       "    }\n",
       "\n",
       "    .dataframe thead th {\n",
       "        text-align: right;\n",
       "    }\n",
       "</style>\n",
       "<table border=\"1\" class=\"dataframe\">\n",
       "  <thead>\n",
       "    <tr style=\"text-align: right;\">\n",
       "      <th></th>\n",
       "      <th>Age</th>\n",
       "      <th>Gender</th>\n",
       "      <th>BMI</th>\n",
       "      <th>SBP</th>\n",
       "      <th>DBP</th>\n",
       "      <th>FPG</th>\n",
       "      <th>Chol</th>\n",
       "      <th>Tri</th>\n",
       "      <th>HDL</th>\n",
       "      <th>LDL</th>\n",
       "      <th>ALT</th>\n",
       "      <th>BUN</th>\n",
       "      <th>CCR</th>\n",
       "      <th>FFPG</th>\n",
       "      <th>smoking</th>\n",
       "      <th>drinking</th>\n",
       "      <th>family_histroy</th>\n",
       "      <th>Diabetes</th>\n",
       "    </tr>\n",
       "  </thead>\n",
       "  <tbody>\n",
       "    <tr>\n",
       "      <th>count</th>\n",
       "      <td>4303.000000</td>\n",
       "      <td>4303.000000</td>\n",
       "      <td>4303.000000</td>\n",
       "      <td>4303.000000</td>\n",
       "      <td>4303.000000</td>\n",
       "      <td>4303.000000</td>\n",
       "      <td>4303.000000</td>\n",
       "      <td>4303.000000</td>\n",
       "      <td>4303.000000</td>\n",
       "      <td>4303.000000</td>\n",
       "      <td>4303.000000</td>\n",
       "      <td>4303.000000</td>\n",
       "      <td>4303.000000</td>\n",
       "      <td>4303.000000</td>\n",
       "      <td>4303.000000</td>\n",
       "      <td>4303.000000</td>\n",
       "      <td>4303.000000</td>\n",
       "      <td>4303.000000</td>\n",
       "    </tr>\n",
       "    <tr>\n",
       "      <th>mean</th>\n",
       "      <td>48.085057</td>\n",
       "      <td>1.351615</td>\n",
       "      <td>24.123923</td>\n",
       "      <td>123.219382</td>\n",
       "      <td>76.360446</td>\n",
       "      <td>5.226368</td>\n",
       "      <td>4.860753</td>\n",
       "      <td>1.588476</td>\n",
       "      <td>1.666765</td>\n",
       "      <td>2.976220</td>\n",
       "      <td>26.754810</td>\n",
       "      <td>4.841088</td>\n",
       "      <td>71.557080</td>\n",
       "      <td>5.729084</td>\n",
       "      <td>3.006123</td>\n",
       "      <td>3.209935</td>\n",
       "      <td>0.061585</td>\n",
       "      <td>0.302812</td>\n",
       "    </tr>\n",
       "    <tr>\n",
       "      <th>std</th>\n",
       "      <td>14.686155</td>\n",
       "      <td>0.477530</td>\n",
       "      <td>3.397294</td>\n",
       "      <td>17.513858</td>\n",
       "      <td>11.004056</td>\n",
       "      <td>0.781089</td>\n",
       "      <td>0.925377</td>\n",
       "      <td>1.260003</td>\n",
       "      <td>1.079377</td>\n",
       "      <td>0.892196</td>\n",
       "      <td>22.279922</td>\n",
       "      <td>1.251566</td>\n",
       "      <td>16.937394</td>\n",
       "      <td>1.424568</td>\n",
       "      <td>1.199571</td>\n",
       "      <td>0.939842</td>\n",
       "      <td>0.240428</td>\n",
       "      <td>0.459528</td>\n",
       "    </tr>\n",
       "    <tr>\n",
       "      <th>min</th>\n",
       "      <td>22.000000</td>\n",
       "      <td>1.000000</td>\n",
       "      <td>15.600000</td>\n",
       "      <td>72.000000</td>\n",
       "      <td>45.000000</td>\n",
       "      <td>1.780000</td>\n",
       "      <td>1.650000</td>\n",
       "      <td>0.000000</td>\n",
       "      <td>0.000000</td>\n",
       "      <td>0.540000</td>\n",
       "      <td>4.500000</td>\n",
       "      <td>1.380000</td>\n",
       "      <td>4.860753</td>\n",
       "      <td>3.200000</td>\n",
       "      <td>1.000000</td>\n",
       "      <td>1.000000</td>\n",
       "      <td>0.000000</td>\n",
       "      <td>0.000000</td>\n",
       "    </tr>\n",
       "    <tr>\n",
       "      <th>25%</th>\n",
       "      <td>35.000000</td>\n",
       "      <td>1.000000</td>\n",
       "      <td>21.700000</td>\n",
       "      <td>111.000000</td>\n",
       "      <td>69.000000</td>\n",
       "      <td>4.700000</td>\n",
       "      <td>4.200000</td>\n",
       "      <td>0.860000</td>\n",
       "      <td>1.130000</td>\n",
       "      <td>2.350000</td>\n",
       "      <td>14.300000</td>\n",
       "      <td>3.960000</td>\n",
       "      <td>60.000000</td>\n",
       "      <td>4.900000</td>\n",
       "      <td>3.000000</td>\n",
       "      <td>3.000000</td>\n",
       "      <td>0.000000</td>\n",
       "      <td>0.000000</td>\n",
       "    </tr>\n",
       "    <tr>\n",
       "      <th>50%</th>\n",
       "      <td>46.000000</td>\n",
       "      <td>1.000000</td>\n",
       "      <td>24.000000</td>\n",
       "      <td>122.000000</td>\n",
       "      <td>76.000000</td>\n",
       "      <td>5.140000</td>\n",
       "      <td>4.790000</td>\n",
       "      <td>1.280000</td>\n",
       "      <td>1.340000</td>\n",
       "      <td>2.820000</td>\n",
       "      <td>20.500000</td>\n",
       "      <td>4.760000</td>\n",
       "      <td>72.000000</td>\n",
       "      <td>5.300000</td>\n",
       "      <td>3.000000</td>\n",
       "      <td>3.000000</td>\n",
       "      <td>0.000000</td>\n",
       "      <td>0.000000</td>\n",
       "    </tr>\n",
       "    <tr>\n",
       "      <th>75%</th>\n",
       "      <td>59.000000</td>\n",
       "      <td>2.000000</td>\n",
       "      <td>26.300000</td>\n",
       "      <td>134.000000</td>\n",
       "      <td>83.000000</td>\n",
       "      <td>5.700000</td>\n",
       "      <td>5.430000</td>\n",
       "      <td>1.940000</td>\n",
       "      <td>1.610000</td>\n",
       "      <td>3.420000</td>\n",
       "      <td>31.050000</td>\n",
       "      <td>5.570000</td>\n",
       "      <td>82.300000</td>\n",
       "      <td>6.020000</td>\n",
       "      <td>3.000000</td>\n",
       "      <td>3.000000</td>\n",
       "      <td>0.000000</td>\n",
       "      <td>1.000000</td>\n",
       "    </tr>\n",
       "    <tr>\n",
       "      <th>max</th>\n",
       "      <td>93.000000</td>\n",
       "      <td>2.000000</td>\n",
       "      <td>45.800000</td>\n",
       "      <td>200.000000</td>\n",
       "      <td>134.000000</td>\n",
       "      <td>6.990000</td>\n",
       "      <td>11.650000</td>\n",
       "      <td>32.640000</td>\n",
       "      <td>4.860753</td>\n",
       "      <td>6.270000</td>\n",
       "      <td>436.200000</td>\n",
       "      <td>17.730000</td>\n",
       "      <td>307.000000</td>\n",
       "      <td>29.700000</td>\n",
       "      <td>4.860753</td>\n",
       "      <td>4.860753</td>\n",
       "      <td>1.000000</td>\n",
       "      <td>1.000000</td>\n",
       "    </tr>\n",
       "  </tbody>\n",
       "</table>\n",
       "</div>"
      ],
      "text/plain": [
       "               Age       Gender          BMI          SBP          DBP  \\\n",
       "count  4303.000000  4303.000000  4303.000000  4303.000000  4303.000000   \n",
       "mean     48.085057     1.351615    24.123923   123.219382    76.360446   \n",
       "std      14.686155     0.477530     3.397294    17.513858    11.004056   \n",
       "min      22.000000     1.000000    15.600000    72.000000    45.000000   \n",
       "25%      35.000000     1.000000    21.700000   111.000000    69.000000   \n",
       "50%      46.000000     1.000000    24.000000   122.000000    76.000000   \n",
       "75%      59.000000     2.000000    26.300000   134.000000    83.000000   \n",
       "max      93.000000     2.000000    45.800000   200.000000   134.000000   \n",
       "\n",
       "               FPG         Chol          Tri          HDL          LDL  \\\n",
       "count  4303.000000  4303.000000  4303.000000  4303.000000  4303.000000   \n",
       "mean      5.226368     4.860753     1.588476     1.666765     2.976220   \n",
       "std       0.781089     0.925377     1.260003     1.079377     0.892196   \n",
       "min       1.780000     1.650000     0.000000     0.000000     0.540000   \n",
       "25%       4.700000     4.200000     0.860000     1.130000     2.350000   \n",
       "50%       5.140000     4.790000     1.280000     1.340000     2.820000   \n",
       "75%       5.700000     5.430000     1.940000     1.610000     3.420000   \n",
       "max       6.990000    11.650000    32.640000     4.860753     6.270000   \n",
       "\n",
       "               ALT          BUN          CCR         FFPG      smoking  \\\n",
       "count  4303.000000  4303.000000  4303.000000  4303.000000  4303.000000   \n",
       "mean     26.754810     4.841088    71.557080     5.729084     3.006123   \n",
       "std      22.279922     1.251566    16.937394     1.424568     1.199571   \n",
       "min       4.500000     1.380000     4.860753     3.200000     1.000000   \n",
       "25%      14.300000     3.960000    60.000000     4.900000     3.000000   \n",
       "50%      20.500000     4.760000    72.000000     5.300000     3.000000   \n",
       "75%      31.050000     5.570000    82.300000     6.020000     3.000000   \n",
       "max     436.200000    17.730000   307.000000    29.700000     4.860753   \n",
       "\n",
       "          drinking  family_histroy     Diabetes  \n",
       "count  4303.000000     4303.000000  4303.000000  \n",
       "mean      3.209935        0.061585     0.302812  \n",
       "std       0.939842        0.240428     0.459528  \n",
       "min       1.000000        0.000000     0.000000  \n",
       "25%       3.000000        0.000000     0.000000  \n",
       "50%       3.000000        0.000000     0.000000  \n",
       "75%       3.000000        0.000000     1.000000  \n",
       "max       4.860753        1.000000     1.000000  "
      ]
     },
     "execution_count": 131,
     "metadata": {},
     "output_type": "execute_result"
    }
   ],
   "source": [
    "dataset.describe()"
   ]
  },
  {
   "cell_type": "markdown",
   "id": "5920777a",
   "metadata": {},
   "source": [
    "# Data cleaning "
   ]
  },
  {
   "cell_type": "code",
   "execution_count": null,
   "id": "fc2be749",
   "metadata": {},
   "outputs": [],
   "source": []
  },
  {
   "cell_type": "code",
   "execution_count": null,
   "id": "1cc17bf8",
   "metadata": {},
   "outputs": [],
   "source": []
  },
  {
   "cell_type": "markdown",
   "id": "0a427709",
   "metadata": {},
   "source": [
    "### Dealing with NULL values"
   ]
  },
  {
   "cell_type": "code",
   "execution_count": 132,
   "id": "c41c5e52",
   "metadata": {},
   "outputs": [
    {
     "data": {
      "text/plain": [
       "Age               0\n",
       "Gender            0\n",
       "BMI               0\n",
       "SBP               0\n",
       "DBP               0\n",
       "FPG               0\n",
       "Chol              0\n",
       "Tri               0\n",
       "HDL               0\n",
       "LDL               0\n",
       "ALT               0\n",
       "BUN               0\n",
       "CCR               0\n",
       "FFPG              0\n",
       "smoking           0\n",
       "drinking          0\n",
       "family_histroy    0\n",
       "Diabetes          0\n",
       "dtype: int64"
      ]
     },
     "execution_count": 132,
     "metadata": {},
     "output_type": "execute_result"
    }
   ],
   "source": [
    "dataset.isnull().sum()"
   ]
  },
  {
   "cell_type": "markdown",
   "id": "518ce42a",
   "metadata": {},
   "source": [
    "### Plotting the histograms"
   ]
  },
  {
   "cell_type": "code",
   "execution_count": 133,
   "id": "48830b56",
   "metadata": {},
   "outputs": [
    {
     "data": {
      "image/png": "[encoded data removed]",
      "text/plain": [
       "<Figure size 2000x1500 with 20 Axes>"
      ]
     },
     "metadata": {},
     "output_type": "display_data"
    }
   ],
   "source": [
    "dataset.hist(bins=25, figsize=(20,15))\n",
    "plt.show()"
   ]
  },
  {
   "cell_type": "markdown",
   "id": "1dcf8c3c",
   "metadata": {},
   "source": [
    "# Data Analysis and Visualization"
   ]
  },
  {
   "cell_type": "markdown",
   "id": "cf319360",
   "metadata": {},
   "source": [
    "### Checking the categorical data "
   ]
  },
  {
   "cell_type": "markdown",
   "id": "bb4b57b5",
   "metadata": {},
   "source": [
    "##### Gender distribution"
   ]
  },
  {
   "cell_type": "code",
   "execution_count": 134,
   "id": "9670a722",
   "metadata": {},
   "outputs": [
    {
     "data": {
      "text/plain": [
       "1    2790\n",
       "2    1513\n",
       "Name: Gender, dtype: int64"
      ]
     },
     "execution_count": 134,
     "metadata": {},
     "output_type": "execute_result"
    }
   ],
   "source": [
    "gender = dataset[\"Gender\"].value_counts()\n",
    "gender"
   ]
  },
  {
   "cell_type": "code",
   "execution_count": 135,
   "id": "7fd76557",
   "metadata": {},
   "outputs": [],
   "source": [
    "df1 = dataset[dataset[\"Gender\"]==1]\n",
    "df2 = dataset[dataset[\"Gender\"]==2]\n",
    "\n",
    "male = list(df1['Diabetes'].value_counts())\n",
    "female = list(df2['Diabetes'].value_counts())\n",
    "label = df1['Diabetes'].value_counts().index.tolist()"
   ]
  },
  {
   "cell_type": "code",
   "execution_count": 136,
   "id": "0eee3bb9",
   "metadata": {},
   "outputs": [
    {
     "data": {
      "text/plain": [
       "<matplotlib.legend.Legend at 0x208734d6b50>"
      ]
     },
     "execution_count": 136,
     "metadata": {},
     "output_type": "execute_result"
    },
    {
     "data": {
      "image/png": "[encoded data removed]",
      "text/plain": [
       "<Figure size 640x480 with 1 Axes>"
      ]
     },
     "metadata": {},
     "output_type": "display_data"
    }
   ],
   "source": [
    "x_axis = np.arange(len(label))\n",
    "plt.bar(x_axis-0.2, male, width = 0.3, color = 'red', label = 'Males')\n",
    "plt.bar(x_axis+0.2, female, width = 0.3, color = 'blue', label = 'Females')\n",
    "plt.xticks(x_axis, label)\n",
    "plt.xlabel(\"Diabetes category\")\n",
    "plt.ylabel(\"Number of people\")\n",
    "plt.title(\"Gender distribution for occurence of diabetes\")\n",
    "plt.legend()"
   ]
  },
  {
   "cell_type": "markdown",
   "id": "c5d538e0",
   "metadata": {},
   "source": [
    "##### Smoking distribution"
   ]
  },
  {
   "cell_type": "code",
   "execution_count": 137,
   "id": "6415f651",
   "metadata": {},
   "outputs": [
    {
     "data": {
      "text/plain": [
       "3.000000    2534\n",
       "4.860753     888\n",
       "1.000000     745\n",
       "2.000000     136\n",
       "Name: smoking, dtype: int64"
      ]
     },
     "execution_count": 137,
     "metadata": {},
     "output_type": "execute_result"
    }
   ],
   "source": [
    "smoking = dataset[\"smoking\"].value_counts()\n",
    "smoking"
   ]
  },
  {
   "cell_type": "code",
   "execution_count": 138,
   "id": "e48806fd",
   "metadata": {},
   "outputs": [],
   "source": [
    "df1 = dataset[dataset[\"Diabetes\"]==0]\n",
    "df2 = dataset[dataset[\"Diabetes\"]==1]\n",
    "\n",
    "cat1 = list(df1['smoking'].value_counts())\n",
    "cat2 = list(df2['smoking'].value_counts())\n",
    "label = df2['smoking'].value_counts().index.tolist()"
   ]
  },
  {
   "cell_type": "code",
   "execution_count": 139,
   "id": "b346f336",
   "metadata": {},
   "outputs": [
    {
     "data": {
      "text/plain": [
       "4.860753    888\n",
       "3.000000    260\n",
       "1.000000    138\n",
       "2.000000     17\n",
       "Name: smoking, dtype: int64"
      ]
     },
     "execution_count": 139,
     "metadata": {},
     "output_type": "execute_result"
    }
   ],
   "source": [
    "df2[\"smoking\"].value_counts()"
   ]
  },
  {
   "cell_type": "code",
   "execution_count": 140,
   "id": "6df86dcc",
   "metadata": {},
   "outputs": [],
   "source": [
    "cat1.insert(0, 0)"
   ]
  },
  {
   "cell_type": "code",
   "execution_count": 141,
   "id": "797d3b92",
   "metadata": {},
   "outputs": [
    {
     "name": "stdout",
     "output_type": "stream",
     "text": [
      "[0, 2274, 607, 119]\n"
     ]
    }
   ],
   "source": [
    "print(cat1)"
   ]
  },
  {
   "cell_type": "code",
   "execution_count": 142,
   "id": "53a6e245",
   "metadata": {},
   "outputs": [
    {
     "data": {
      "text/plain": [
       "<matplotlib.legend.Legend at 0x2087283dd90>"
      ]
     },
     "execution_count": 142,
     "metadata": {},
     "output_type": "execute_result"
    },
    {
     "data": {
      "image/png": "[encoded data removed]",
      "text/plain": [
       "<Figure size 640x480 with 1 Axes>"
      ]
     },
     "metadata": {},
     "output_type": "display_data"
    }
   ],
   "source": [
    "x_axis = np.arange(len(label))\n",
    "plt.bar(x_axis-0.2, cat1, width = 0.3, color = 'red', label = 'No diabetes')\n",
    "plt.bar(x_axis+0.2, cat2, width = 0.3, color = 'blue', label = 'Diabetes')\n",
    "plt.xticks(x_axis, label)\n",
    "plt.xlabel(\"Smoking category\")\n",
    "plt.ylabel(\"Number of people\")\n",
    "plt.title(\"Smoking distribution for occurence of diabetes\")\n",
    "plt.legend()"
   ]
  },
  {
   "cell_type": "markdown",
   "id": "f5fdeda9",
   "metadata": {},
   "source": [
    "### Correlation matrix"
   ]
  },
  {
   "cell_type": "code",
   "execution_count": 143,
   "id": "627df997",
   "metadata": {
    "scrolled": true
   },
   "outputs": [
    {
     "data": {
      "text/plain": [
       "Diabetes          1.000000\n",
       "drinking          0.706582\n",
       "FFPG              0.583107\n",
       "smoking           0.569857\n",
       "Age               0.521380\n",
       "FPG               0.515342\n",
       "HDL               0.453618\n",
       "LDL               0.386235\n",
       "SBP               0.282476\n",
       "BMI               0.236583\n",
       "DBP               0.169963\n",
       "Tri               0.169151\n",
       "BUN               0.148571\n",
       "Chol              0.124310\n",
       "ALT               0.060568\n",
       "family_histroy    0.028939\n",
       "Gender            0.007251\n",
       "CCR              -0.067295\n",
       "Name: Diabetes, dtype: float64"
      ]
     },
     "execution_count": 143,
     "metadata": {},
     "output_type": "execute_result"
    }
   ],
   "source": [
    "correlation = dataset.corr()\n",
    "correlation[\"Diabetes\"].sort_values(ascending = False)"
   ]
  },
  {
   "cell_type": "code",
   "execution_count": 144,
   "id": "78e31c16",
   "metadata": {},
   "outputs": [
    {
     "data": {
      "image/png": "[encoded data removed]",
      "text/plain": [
       "<Figure size 700x800 with 2 Axes>"
      ]
     },
     "metadata": {},
     "output_type": "display_data"
    }
   ],
   "source": [
    "import seaborn as sns\n",
    "plt.figure(figsize = (7, 8))\n",
    "sns.heatmap(correlation, annot=False, cmap='viridis')\n",
    "\n",
    "plt.title(\"Correlation matrix plot\")\n",
    "plt.show()"
   ]
  },
  {
   "cell_type": "markdown",
   "id": "7f943c16",
   "metadata": {},
   "source": [
    "# Splitting the dataset"
   ]
  },
  {
   "cell_type": "markdown",
   "id": "abbbf96a",
   "metadata": {},
   "source": [
    "### Splitting into target variable and matrix of features"
   ]
  },
  {
   "cell_type": "code",
   "execution_count": 145,
   "id": "626debeb",
   "metadata": {},
   "outputs": [],
   "source": [
    "x = dataset.iloc[:, :-1]\n",
    "y = dataset.iloc[:, -1]"
   ]
  },
  {
   "cell_type": "markdown",
   "id": "dee3e83b",
   "metadata": {},
   "source": [
    "### Splitting into training and testing dataset"
   ]
  },
  {
   "cell_type": "code",
   "execution_count": 146,
   "id": "d398140a",
   "metadata": {},
   "outputs": [],
   "source": [
    "from sklearn.model_selection import StratifiedShuffleSplit\n",
    "sss = StratifiedShuffleSplit(n_splits=1, test_size=0.2, random_state=42)\n",
    "\n",
    "for i, (train_index, test_index) in enumerate(sss.split(x, y)):\n",
    "    train = train_index\n",
    "    test = test_index"
   ]
  },
  {
   "cell_type": "code",
   "execution_count": 147,
   "id": "fad0a9fd",
   "metadata": {},
   "outputs": [],
   "source": [
    "i1 = []\n",
    "for i in train:\n",
    "    i1.append(i)\n",
    "    \n",
    "i2 = []\n",
    "for i in test:\n",
    "    i2.append(i)\n",
    "\n",
    "x_train = x.iloc[i1, :]\n",
    "x_test = x.iloc[i2, :]\n"
   ]
  },
  {
   "cell_type": "code",
   "execution_count": 148,
   "id": "30a45046",
   "metadata": {},
   "outputs": [],
   "source": [
    "y_train = y.iloc[i1]\n",
    "y_test = y.iloc[i2]"
   ]
  },
  {
   "cell_type": "markdown",
   "id": "0a16fb37",
   "metadata": {},
   "source": [
    "# Applying transformations"
   ]
  },
  {
   "cell_type": "markdown",
   "id": "1c2bf89a",
   "metadata": {},
   "source": [
    "### Feature engineering"
   ]
  },
  {
   "cell_type": "code",
   "execution_count": 149,
   "id": "deda3453",
   "metadata": {},
   "outputs": [],
   "source": [
    "correlation_values = correlation[\"Diabetes\"].values.tolist()\n",
    "correlation_labels = correlation.columns.tolist()"
   ]
  },
  {
   "cell_type": "code",
   "execution_count": 150,
   "id": "e9c00b65",
   "metadata": {},
   "outputs": [],
   "source": [
    "attr = []\n",
    "for i, j in zip(correlation_values, correlation_labels):\n",
    "    if (i>0.2 and i!=1):\n",
    "        attr.append(j)"
   ]
  },
  {
   "cell_type": "code",
   "execution_count": 151,
   "id": "03642be4",
   "metadata": {},
   "outputs": [
    {
     "data": {
      "text/plain": [
       "['Age', 'BMI', 'SBP', 'FPG', 'HDL', 'LDL', 'FFPG', 'smoking', 'drinking']"
      ]
     },
     "execution_count": 151,
     "metadata": {},
     "output_type": "execute_result"
    }
   ],
   "source": [
    "attr"
   ]
  },
  {
   "cell_type": "code",
   "execution_count": 152,
   "id": "d9a4f71a",
   "metadata": {},
   "outputs": [],
   "source": [
    "x_train1 = x_train.loc[:, attr]"
   ]
  },
  {
   "cell_type": "markdown",
   "id": "dbaa0192",
   "metadata": {},
   "source": [
    "### Scaling the data "
   ]
  },
  {
   "cell_type": "code",
   "execution_count": 153,
   "id": "9e7565e5",
   "metadata": {},
   "outputs": [],
   "source": [
    "from sklearn.preprocessing import StandardScaler\n",
    "scaler = StandardScaler()\n",
    "x_train2 = scaler.fit_transform(x_train1)"
   ]
  },
  {
   "cell_type": "markdown",
   "id": "cde71059",
   "metadata": {},
   "source": [
    "### Applying transformations on test data set"
   ]
  },
  {
   "cell_type": "code",
   "execution_count": 154,
   "id": "d97510f9",
   "metadata": {},
   "outputs": [],
   "source": [
    "x_test1 = x_test.loc[:, attr]"
   ]
  },
  {
   "cell_type": "code",
   "execution_count": 155,
   "id": "ff346be3",
   "metadata": {},
   "outputs": [],
   "source": [
    "x_test2 = scaler.transform(x_test1)"
   ]
  },
  {
   "cell_type": "markdown",
   "id": "eb063891",
   "metadata": {},
   "source": [
    "# Performing Cross Validation to check over/under fitting"
   ]
  },
  {
   "cell_type": "code",
   "execution_count": 156,
   "id": "161e2e81",
   "metadata": {},
   "outputs": [
    {
     "name": "stdout",
     "output_type": "stream",
     "text": [
      "Scores of validation models: \n",
      "[0.92307692 0.91436865 0.92732558 0.93023256 0.93168605]\n",
      "Scores on training model: \n",
      "1.0\n"
     ]
    }
   ],
   "source": [
    "from sklearn.model_selection import cross_val_score\n",
    "from sklearn.tree import DecisionTreeClassifier\n",
    "from sklearn.metrics import accuracy_score\n",
    "\n",
    "classifier1 = DecisionTreeClassifier()\n",
    "classifier2 = DecisionTreeClassifier()\n",
    "scores = cross_val_score(classifier1, x_train2, y_train, scoring=\"accuracy\", cv=5)\n",
    "print(\"Scores of validation models: \")\n",
    "print(scores)\n",
    "\n",
    "classifier2.fit(x_train2, y_train)\n",
    "y_pred = classifier2.predict(x_train2)\n",
    "score = accuracy_score(y_train, y_pred)\n",
    "print(\"Scores on training model: \")\n",
    "print(score)\n",
    "\n",
    "#Since the accuracy scores for the validation set is slightly less, we can say that the model is slightly over-fitting"
   ]
  },
  {
   "cell_type": "markdown",
   "id": "c48d0f1b",
   "metadata": {},
   "source": [
    "# Building the models to predict diabetes"
   ]
  },
  {
   "cell_type": "code",
   "execution_count": 157,
   "id": "5d232f3e",
   "metadata": {},
   "outputs": [],
   "source": [
    "from sklearn.metrics import accuracy_score, confusion_matrix, f1_score, classification_report"
   ]
  },
  {
   "cell_type": "markdown",
   "id": "b0a03de4",
   "metadata": {},
   "source": [
    "### Decision Tree"
   ]
  },
  {
   "cell_type": "code",
   "execution_count": 158,
   "id": "48925813",
   "metadata": {},
   "outputs": [
    {
     "name": "stdout",
     "output_type": "stream",
     "text": [
      "The confusion matrix is given by: \n",
      "[[563  37]\n",
      " [ 26 235]]\n",
      "The f1 score is 0.8818011257035648\n",
      "The accuracy score is 0.926829268292683\n",
      "The classification report is: \n",
      "              precision    recall  f1-score   support\n",
      "\n",
      "           0       0.96      0.94      0.95       600\n",
      "           1       0.86      0.90      0.88       261\n",
      "\n",
      "    accuracy                           0.93       861\n",
      "   macro avg       0.91      0.92      0.91       861\n",
      "weighted avg       0.93      0.93      0.93       861\n",
      "\n"
     ]
    }
   ],
   "source": [
    "from sklearn.tree import DecisionTreeClassifier\n",
    "classifier1 = DecisionTreeClassifier()\n",
    "classifier1.fit(x_train2, y_train)\n",
    "\n",
    "y_pred = classifier1.predict(x_test2)\n",
    "print(\"The confusion matrix is given by: \")\n",
    "print(confusion_matrix(y_test, y_pred))\n",
    "print(f'The f1 score is {f1_score(y_test, y_pred)}')\n",
    "print(f'The accuracy score is {accuracy_score(y_test, y_pred)}')\n",
    "print(\"The classification report is: \")\n",
    "print(classification_report(y_test, y_pred))"
   ]
  },
  {
   "cell_type": "markdown",
   "id": "26b12d74",
   "metadata": {},
   "source": [
    "### Logistic Regression"
   ]
  },
  {
   "cell_type": "code",
   "execution_count": 159,
   "id": "0d03c2e3",
   "metadata": {},
   "outputs": [
    {
     "name": "stdout",
     "output_type": "stream",
     "text": [
      "The confusion matrix is given by: \n",
      "[[587  13]\n",
      " [ 26 235]]\n",
      "The f1 score is 0.9233791748526522\n",
      "The accuracy score is 0.9547038327526133\n",
      "The classification report is: \n",
      "              precision    recall  f1-score   support\n",
      "\n",
      "           0       0.96      0.98      0.97       600\n",
      "           1       0.95      0.90      0.92       261\n",
      "\n",
      "    accuracy                           0.95       861\n",
      "   macro avg       0.95      0.94      0.95       861\n",
      "weighted avg       0.95      0.95      0.95       861\n",
      "\n"
     ]
    }
   ],
   "source": [
    "from sklearn.linear_model import LogisticRegression\n",
    "classifier2 = LogisticRegression()\n",
    "classifier2.fit(x_train2, y_train)\n",
    "\n",
    "y_pred = classifier2.predict(x_test2)\n",
    "print(\"The confusion matrix is given by: \")\n",
    "print(confusion_matrix(y_test, y_pred))\n",
    "print(f'The f1 score is {f1_score(y_test, y_pred)}')\n",
    "print(f'The accuracy score is {accuracy_score(y_test, y_pred)}')\n",
    "print(\"The classification report is: \")\n",
    "print(classification_report(y_test, y_pred))"
   ]
  },
  {
   "cell_type": "markdown",
   "id": "8dedba18",
   "metadata": {},
   "source": [
    "### Random Forest "
   ]
  },
  {
   "cell_type": "code",
   "execution_count": 160,
   "id": "f03e7877",
   "metadata": {},
   "outputs": [
    {
     "name": "stdout",
     "output_type": "stream",
     "text": [
      "The confusion matrix is given by: \n",
      "[[585  15]\n",
      " [ 16 245]]\n",
      "The f1 score is 0.9404990403071016\n",
      "The accuracy score is 0.9639953542392566\n",
      "The classification report is: \n",
      "              precision    recall  f1-score   support\n",
      "\n",
      "           0       0.97      0.97      0.97       600\n",
      "           1       0.94      0.94      0.94       261\n",
      "\n",
      "    accuracy                           0.96       861\n",
      "   macro avg       0.96      0.96      0.96       861\n",
      "weighted avg       0.96      0.96      0.96       861\n",
      "\n"
     ]
    }
   ],
   "source": [
    "from sklearn.ensemble import RandomForestClassifier\n",
    "classifier3 = RandomForestClassifier(n_estimators = 270)\n",
    "classifier3.fit(x_train2, y_train)\n",
    "\n",
    "y_pred = classifier3.predict(x_test2)\n",
    "print(\"The confusion matrix is given by: \")\n",
    "print(confusion_matrix(y_test, y_pred))\n",
    "print(f'The f1 score is {f1_score(y_test, y_pred)}')\n",
    "print(f'The accuracy score is {accuracy_score(y_test, y_pred)}')\n",
    "print(\"The classification report is: \")\n",
    "print(classification_report(y_test, y_pred))"
   ]
  },
  {
   "cell_type": "markdown",
   "id": "fe9fb48f",
   "metadata": {},
   "source": [
    "### Naive Bayes"
   ]
  },
  {
   "cell_type": "code",
   "execution_count": 161,
   "id": "edaf979e",
   "metadata": {},
   "outputs": [
    {
     "name": "stdout",
     "output_type": "stream",
     "text": [
      "The confusion matrix is given by: \n",
      "[[584  16]\n",
      " [ 23 238]]\n",
      "The f1 score is 0.9242718446601942\n",
      "The accuracy score is 0.9547038327526133\n",
      "The classification report is: \n",
      "              precision    recall  f1-score   support\n",
      "\n",
      "           0       0.96      0.97      0.97       600\n",
      "           1       0.94      0.91      0.92       261\n",
      "\n",
      "    accuracy                           0.95       861\n",
      "   macro avg       0.95      0.94      0.95       861\n",
      "weighted avg       0.95      0.95      0.95       861\n",
      "\n"
     ]
    }
   ],
   "source": [
    "from sklearn.naive_bayes import GaussianNB\n",
    "classifier4 = GaussianNB()\n",
    "classifier4.fit(x_train2, y_train)\n",
    "\n",
    "y_pred = classifier4.predict(x_test2)\n",
    "print(\"The confusion matrix is given by: \")\n",
    "print(confusion_matrix(y_test, y_pred))\n",
    "print(f'The f1 score is {f1_score(y_test, y_pred)}')\n",
    "print(f'The accuracy score is {accuracy_score(y_test, y_pred)}')\n",
    "print(\"The classification report is: \")\n",
    "print(classification_report(y_test, y_pred))"
   ]
  },
  {
   "cell_type": "markdown",
   "id": "2e7b4252",
   "metadata": {},
   "source": [
    "### K-NN Classifier"
   ]
  },
  {
   "cell_type": "code",
   "execution_count": 162,
   "id": "57964f74",
   "metadata": {},
   "outputs": [
    {
     "name": "stdout",
     "output_type": "stream",
     "text": [
      "The confusion matrix is given by: \n",
      "[[592   8]\n",
      " [ 26 235]]\n",
      "The f1 score is 0.9325396825396826\n",
      "The accuracy score is 0.9605110336817654\n",
      "The classification report is: \n",
      "              precision    recall  f1-score   support\n",
      "\n",
      "           0       0.96      0.99      0.97       600\n",
      "           1       0.97      0.90      0.93       261\n",
      "\n",
      "    accuracy                           0.96       861\n",
      "   macro avg       0.96      0.94      0.95       861\n",
      "weighted avg       0.96      0.96      0.96       861\n",
      "\n"
     ]
    },
    {
     "name": "stderr",
     "output_type": "stream",
     "text": [
      "D:\\anaconda3\\lib\\site-packages\\sklearn\\neighbors\\_classification.py:228: FutureWarning: Unlike other reduction functions (e.g. `skew`, `kurtosis`), the default behavior of `mode` typically preserves the axis it acts along. In SciPy 1.11.0, this behavior will change: the default value of `keepdims` will become False, the `axis` over which the statistic is taken will be eliminated, and the value None will no longer be accepted. Set `keepdims` to True or False to avoid this warning.\n",
      "  mode, _ = stats.mode(_y[neigh_ind, k], axis=1)\n"
     ]
    }
   ],
   "source": [
    "from sklearn.neighbors import KNeighborsClassifier\n",
    "classifier5 = KNeighborsClassifier(n_neighbors = 7) \n",
    "classifier5.fit(x_train2, y_train)\n",
    "\n",
    "y_pred = classifier5.predict(x_test2)\n",
    "print(\"The confusion matrix is given by: \")\n",
    "print(confusion_matrix(y_test, y_pred))\n",
    "print(f'The f1 score is {f1_score(y_test, y_pred)}')\n",
    "print(f'The accuracy score is {accuracy_score(y_test, y_pred)}')\n",
    "print(\"The classification report is: \")\n",
    "print(classification_report(y_test, y_pred))"
   ]
  },
  {
   "cell_type": "markdown",
   "id": "ffc56152",
   "metadata": {},
   "source": [
    "### Support Vector Classifier (RBF model) "
   ]
  },
  {
   "cell_type": "markdown",
   "id": "a87a7937",
   "metadata": {},
   "source": [
    "##### Linear SVC"
   ]
  },
  {
   "cell_type": "code",
   "execution_count": 163,
   "id": "c4738cc7",
   "metadata": {},
   "outputs": [
    {
     "name": "stdout",
     "output_type": "stream",
     "text": [
      "The confusion matrix is given by: \n",
      "[[593   7]\n",
      " [ 27 234]]\n",
      "The f1 score is 0.9322709163346613\n",
      "The accuracy score is 0.9605110336817654\n",
      "The classification report is: \n",
      "              precision    recall  f1-score   support\n",
      "\n",
      "           0       0.96      0.99      0.97       600\n",
      "           1       0.97      0.90      0.93       261\n",
      "\n",
      "    accuracy                           0.96       861\n",
      "   macro avg       0.96      0.94      0.95       861\n",
      "weighted avg       0.96      0.96      0.96       861\n",
      "\n"
     ]
    },
    {
     "name": "stderr",
     "output_type": "stream",
     "text": [
      "D:\\anaconda3\\lib\\site-packages\\sklearn\\svm\\_base.py:1206: ConvergenceWarning: Liblinear failed to converge, increase the number of iterations.\n",
      "  warnings.warn(\n"
     ]
    }
   ],
   "source": [
    "from sklearn.svm import LinearSVC\n",
    "classifier6 = LinearSVC()\n",
    "classifier6.fit(x_train2, y_train)\n",
    "\n",
    "y_pred = classifier6.predict(x_test2)\n",
    "print(\"The confusion matrix is given by: \")\n",
    "print(confusion_matrix(y_test, y_pred))\n",
    "print(f'The f1 score is {f1_score(y_test, y_pred)}')\n",
    "print(f'The accuracy score is {accuracy_score(y_test, y_pred)}')\n",
    "print(\"The classification report is: \")\n",
    "print(classification_report(y_test, y_pred))"
   ]
  },
  {
   "cell_type": "markdown",
   "id": "f798c162",
   "metadata": {},
   "source": [
    "##### RBF kernel"
   ]
  },
  {
   "cell_type": "code",
   "execution_count": 164,
   "id": "97bf7803",
   "metadata": {},
   "outputs": [
    {
     "name": "stdout",
     "output_type": "stream",
     "text": [
      "The confusion matrix is given by: \n",
      "[[591   9]\n",
      " [ 26 235]]\n",
      "The f1 score is 0.9306930693069307\n",
      "The accuracy score is 0.959349593495935\n",
      "The classification report is: \n",
      "              precision    recall  f1-score   support\n",
      "\n",
      "           0       0.96      0.98      0.97       600\n",
      "           1       0.96      0.90      0.93       261\n",
      "\n",
      "    accuracy                           0.96       861\n",
      "   macro avg       0.96      0.94      0.95       861\n",
      "weighted avg       0.96      0.96      0.96       861\n",
      "\n"
     ]
    }
   ],
   "source": [
    "from sklearn.svm import SVC\n",
    "classifier7 = SVC(kernel = 'rbf')\n",
    "classifier7.fit(x_train2, y_train)\n",
    "\n",
    "y_pred = classifier7.predict(x_test2)\n",
    "print(\"The confusion matrix is given by: \")\n",
    "print(confusion_matrix(y_test, y_pred))\n",
    "print(f'The f1 score is {f1_score(y_test, y_pred)}')\n",
    "print(f'The accuracy score is {accuracy_score(y_test, y_pred)}')\n",
    "print(\"The classification report is: \")\n",
    "print(classification_report(y_test, y_pred))"
   ]
  },
  {
   "cell_type": "markdown",
   "id": "dd32cfb0",
   "metadata": {},
   "source": [
    "##### Sigmoid kernel"
   ]
  },
  {
   "cell_type": "code",
   "execution_count": 165,
   "id": "75bc74e7",
   "metadata": {},
   "outputs": [
    {
     "name": "stdout",
     "output_type": "stream",
     "text": [
      "The confusion matrix is given by: \n",
      "[[559  41]\n",
      " [ 43 218]]\n",
      "The f1 score is 0.8384615384615385\n",
      "The accuracy score is 0.9024390243902439\n",
      "The classification report is: \n",
      "              precision    recall  f1-score   support\n",
      "\n",
      "           0       0.93      0.93      0.93       600\n",
      "           1       0.84      0.84      0.84       261\n",
      "\n",
      "    accuracy                           0.90       861\n",
      "   macro avg       0.89      0.88      0.88       861\n",
      "weighted avg       0.90      0.90      0.90       861\n",
      "\n"
     ]
    }
   ],
   "source": [
    "from sklearn.svm import SVC\n",
    "classifier8 = SVC(kernel = 'sigmoid')\n",
    "classifier8.fit(x_train2, y_train)\n",
    "\n",
    "y_pred = classifier8.predict(x_test2)\n",
    "print(\"The confusion matrix is given by: \")\n",
    "print(confusion_matrix(y_test, y_pred))\n",
    "print(f'The f1 score is {f1_score(y_test, y_pred)}')\n",
    "print(f'The accuracy score is {accuracy_score(y_test, y_pred)}')\n",
    "print(\"The classification report is: \")\n",
    "print(classification_report(y_test, y_pred))"
   ]
  },
  {
   "cell_type": "markdown",
   "id": "fa2f6b94",
   "metadata": {},
   "source": [
    "### Stacking Model"
   ]
  },
  {
   "cell_type": "code",
   "execution_count": 216,
   "id": "25d990bd",
   "metadata": {},
   "outputs": [
    {
     "name": "stdout",
     "output_type": "stream",
     "text": [
      "The confusion matrix is given by: \n",
      "[[589  11]\n",
      " [ 19 242]]\n",
      "The f1 score is 0.9416342412451363\n",
      "The accuracy score is 0.9651567944250871\n",
      "The classification report is: \n",
      "              precision    recall  f1-score   support\n",
      "\n",
      "           0       0.97      0.98      0.98       600\n",
      "           1       0.96      0.93      0.94       261\n",
      "\n",
      "    accuracy                           0.97       861\n",
      "   macro avg       0.96      0.95      0.96       861\n",
      "weighted avg       0.97      0.97      0.97       861\n",
      "\n"
     ]
    }
   ],
   "source": [
    "from sklearn.neighbors import KNeighborsClassifier\n",
    "from sklearn.linear_model import LogisticRegression\n",
    "from sklearn.tree import DecisionTreeClassifier\n",
    "from sklearn.svm import SVC\n",
    "from sklearn.naive_bayes import GaussianNB\n",
    "from sklearn.ensemble import RandomForestClassifier\n",
    "from sklearn.ensemble import StackingClassifier\n",
    "level0 = list()\n",
    "level0.append(('lr', LogisticRegression()))\n",
    "level0.append(('knn', KNeighborsClassifier(n_neighbors = 7)))\n",
    "level0.append(('random', RandomForestClassifier(n_estimators = 270)))\n",
    "\n",
    "level1 = LogisticRegression()\n",
    "\n",
    "model = StackingClassifier(estimators=level0, final_estimator=level1, cv=5)\n",
    "\n",
    "model.fit(x_train2, y_train)\n",
    "\n",
    "y_pred = model.predict(x_test2)\n",
    "cm = confusion_matrix(y_test, y_pred)\n",
    "print(\"The confusion matrix is given by: \")\n",
    "print(cm)\n",
    "print(f'The f1 score is {f1_score(y_test, y_pred)}')\n",
    "print(f'The accuracy score is {accuracy_score(y_test, y_pred)}')\n",
    "print(\"The classification report is: \")\n",
    "print(classification_report(y_test, y_pred))"
   ]
  },
  {
   "cell_type": "code",
   "execution_count": 217,
   "id": "6cd9da3b",
   "metadata": {},
   "outputs": [
    {
     "name": "stdout",
     "output_type": "stream",
     "text": [
      "[[589  11]\n",
      " [ 19 242]]\n"
     ]
    },
    {
     "data": {
      "text/plain": [
       "<sklearn.metrics._plot.confusion_matrix.ConfusionMatrixDisplay at 0x2087224cb20>"
      ]
     },
     "execution_count": 217,
     "metadata": {},
     "output_type": "execute_result"
    },
    {
     "data": {
      "image/png": "[encoded data removed]",
      "text/plain": [
       "<Figure size 640x480 with 2 Axes>"
      ]
     },
     "metadata": {},
     "output_type": "display_data"
    }
   ],
   "source": [
    "from sklearn.metrics import confusion_matrix, f1_score, ConfusionMatrixDisplay\n",
    "cm_plot = ConfusionMatrixDisplay(confusion_matrix=cm, display_labels=[\"No Diabetes\", \"Diabetes\"])\n",
    "print(cm)\n",
    "cm_plot.plot()"
   ]
  },
  {
   "cell_type": "markdown",
   "id": "d5f55f55",
   "metadata": {},
   "source": [
    "### Voting Classifier"
   ]
  },
  {
   "cell_type": "markdown",
   "id": "2580cc39",
   "metadata": {},
   "source": [
    "##### Soft Voting Method"
   ]
  },
  {
   "cell_type": "code",
   "execution_count": 168,
   "id": "dce23195",
   "metadata": {},
   "outputs": [
    {
     "name": "stdout",
     "output_type": "stream",
     "text": [
      "The confusion matrix is given by: \n",
      "[[592   8]\n",
      " [ 26 235]]\n",
      "The f1 score is 0.9325396825396826\n",
      "The accuracy score is 0.9605110336817654\n",
      "The classification report is: \n",
      "              precision    recall  f1-score   support\n",
      "\n",
      "           0       0.96      0.99      0.97       600\n",
      "           1       0.97      0.90      0.93       261\n",
      "\n",
      "    accuracy                           0.96       861\n",
      "   macro avg       0.96      0.94      0.95       861\n",
      "weighted avg       0.96      0.96      0.96       861\n",
      "\n"
     ]
    }
   ],
   "source": [
    "from sklearn.ensemble import VotingClassifier\n",
    "voting_clf1 = VotingClassifier(\n",
    " estimators=[('lr', LogisticRegression()), ('svc', SVC(kernel = 'linear', probability = True)), ('rf', RandomForestClassifier(n_estimators = 270))],\n",
    " voting='soft')\n",
    "voting_clf1.fit(x_train2, y_train)\n",
    "\n",
    "y_pred = voting_clf1.predict(x_test2)\n",
    "print(\"The confusion matrix is given by: \")\n",
    "print(confusion_matrix(y_test, y_pred))\n",
    "print(f'The f1 score is {f1_score(y_test, y_pred)}')\n",
    "print(f'The accuracy score is {accuracy_score(y_test, y_pred)}')\n",
    "print(\"The classification report is: \")\n",
    "print(classification_report(y_test, y_pred))"
   ]
  },
  {
   "cell_type": "markdown",
   "id": "5ce0c819",
   "metadata": {},
   "source": [
    "#####  Hard Voting Method"
   ]
  },
  {
   "cell_type": "code",
   "execution_count": 169,
   "id": "87bb2b1a",
   "metadata": {},
   "outputs": [
    {
     "name": "stdout",
     "output_type": "stream",
     "text": [
      "The confusion matrix is given by: \n",
      "[[592   8]\n",
      " [ 24 237]]\n",
      "The f1 score is 0.9367588932806323\n",
      "The accuracy score is 0.9628339140534262\n",
      "The classification report is: \n",
      "              precision    recall  f1-score   support\n",
      "\n",
      "           0       0.96      0.99      0.97       600\n",
      "           1       0.97      0.91      0.94       261\n",
      "\n",
      "    accuracy                           0.96       861\n",
      "   macro avg       0.96      0.95      0.96       861\n",
      "weighted avg       0.96      0.96      0.96       861\n",
      "\n"
     ]
    },
    {
     "name": "stderr",
     "output_type": "stream",
     "text": [
      "D:\\anaconda3\\lib\\site-packages\\sklearn\\neighbors\\_classification.py:228: FutureWarning: Unlike other reduction functions (e.g. `skew`, `kurtosis`), the default behavior of `mode` typically preserves the axis it acts along. In SciPy 1.11.0, this behavior will change: the default value of `keepdims` will become False, the `axis` over which the statistic is taken will be eliminated, and the value None will no longer be accepted. Set `keepdims` to True or False to avoid this warning.\n",
      "  mode, _ = stats.mode(_y[neigh_ind, k], axis=1)\n"
     ]
    }
   ],
   "source": [
    "from sklearn.ensemble import VotingClassifier\n",
    "voting_clf2 = VotingClassifier(\n",
    " estimators=[('lr', LogisticRegression()), ('svc', SVC(kernel = 'linear')), ('rf', RandomForestClassifier(n_estimators = 270)), ('dt', DecisionTreeClassifier()), ('knn', KNeighborsClassifier(n_neighbors = 9))],\n",
    " voting='hard')\n",
    "voting_clf2.fit(x_train2, y_train)\n",
    "\n",
    "y_pred = voting_clf2.predict(x_test2)\n",
    "print(\"The confusion matrix is given by: \")\n",
    "print(confusion_matrix(y_test, y_pred))\n",
    "print(f'The f1 score is {f1_score(y_test, y_pred)}')\n",
    "print(f'The accuracy score is {accuracy_score(y_test, y_pred)}')\n",
    "print(\"The classification report is: \")\n",
    "print(classification_report(y_test, y_pred))"
   ]
  },
  {
   "cell_type": "markdown",
   "id": "adefc15f",
   "metadata": {},
   "source": [
    "### Light GBM"
   ]
  },
  {
   "cell_type": "code",
   "execution_count": 170,
   "id": "7959eb48",
   "metadata": {},
   "outputs": [
    {
     "name": "stdout",
     "output_type": "stream",
     "text": [
      "[LightGBM] [Info] Number of positive: 1042, number of negative: 2400\n",
      "[LightGBM] [Info] Auto-choosing col-wise multi-threading, the overhead of testing was 0.002614 seconds.\n",
      "You can set `force_col_wise=true` to remove the overhead.\n",
      "[LightGBM] [Info] Total Bins 1261\n",
      "[LightGBM] [Info] Number of data points in the train set: 3442, number of used features: 9\n",
      "[LightGBM] [Info] [binary:BoostFromScore]: pavg=0.302731 -> initscore=-0.834327\n",
      "[LightGBM] [Info] Start training from score -0.834327\n",
      "The confusion matrix is given by: \n",
      "[[584  16]\n",
      " [ 20 241]]\n",
      "The f1 score is 0.9305019305019305\n",
      "The accuracy score is 0.9581881533101045\n",
      "The classification report is: \n",
      "              precision    recall  f1-score   support\n",
      "\n",
      "           0       0.97      0.97      0.97       600\n",
      "           1       0.94      0.92      0.93       261\n",
      "\n",
      "    accuracy                           0.96       861\n",
      "   macro avg       0.95      0.95      0.95       861\n",
      "weighted avg       0.96      0.96      0.96       861\n",
      "\n"
     ]
    }
   ],
   "source": [
    "from lightgbm import LGBMClassifier\n",
    "model = LGBMClassifier()\n",
    "model.fit(x_train2, y_train)\n",
    "\n",
    "y_pred = model.predict(x_test2)\n",
    "print(\"The confusion matrix is given by: \")\n",
    "print(confusion_matrix(y_test, y_pred))\n",
    "print(f'The f1 score is {f1_score(y_test, y_pred)}')\n",
    "print(f'The accuracy score is {accuracy_score(y_test, y_pred)}')\n",
    "print(\"The classification report is: \")\n",
    "print(classification_report(y_test, y_pred))"
   ]
  },
  {
   "cell_type": "markdown",
   "id": "0f352247",
   "metadata": {},
   "source": [
    "### XGBoost"
   ]
  },
  {
   "cell_type": "code",
   "execution_count": 171,
   "id": "039577bf",
   "metadata": {},
   "outputs": [
    {
     "name": "stdout",
     "output_type": "stream",
     "text": [
      "The confusion matrix is given by: \n",
      "[[584  16]\n",
      " [ 19 242]]\n",
      "The f1 score is 0.932562620423892\n",
      "The accuracy score is 0.959349593495935\n",
      "The classification report is: \n",
      "              precision    recall  f1-score   support\n",
      "\n",
      "           0       0.97      0.97      0.97       600\n",
      "           1       0.94      0.93      0.93       261\n",
      "\n",
      "    accuracy                           0.96       861\n",
      "   macro avg       0.95      0.95      0.95       861\n",
      "weighted avg       0.96      0.96      0.96       861\n",
      "\n"
     ]
    }
   ],
   "source": [
    "from xgboost import XGBClassifier\n",
    "model = XGBClassifier()\n",
    "model.fit(x_train2, y_train)\n",
    "\n",
    "y_pred = model.predict(x_test2)\n",
    "print(\"The confusion matrix is given by: \")\n",
    "print(confusion_matrix(y_test, y_pred))\n",
    "print(f'The f1 score is {f1_score(y_test, y_pred)}')\n",
    "print(f'The accuracy score is {accuracy_score(y_test, y_pred)}')\n",
    "print(\"The classification report is: \")\n",
    "print(classification_report(y_test, y_pred))"
   ]
  },
  {
   "cell_type": "markdown",
   "id": "9130da6f",
   "metadata": {},
   "source": [
    "### Adaboost"
   ]
  },
  {
   "cell_type": "code",
   "execution_count": 172,
   "id": "765d7a60",
   "metadata": {},
   "outputs": [
    {
     "name": "stdout",
     "output_type": "stream",
     "text": [
      "The confusion matrix is given by: \n",
      "[[581  19]\n",
      " [ 20 241]]\n",
      "The f1 score is 0.9251439539347409\n",
      "The accuracy score is 0.9547038327526133\n",
      "The classification report is: \n",
      "              precision    recall  f1-score   support\n",
      "\n",
      "           0       0.97      0.97      0.97       600\n",
      "           1       0.93      0.92      0.93       261\n",
      "\n",
      "    accuracy                           0.95       861\n",
      "   macro avg       0.95      0.95      0.95       861\n",
      "weighted avg       0.95      0.95      0.95       861\n",
      "\n"
     ]
    }
   ],
   "source": [
    "from sklearn.ensemble import AdaBoostClassifier\n",
    "ada_clf = AdaBoostClassifier(\n",
    " DecisionTreeClassifier(min_samples_split = 330, max_features = 5, max_depth=1), n_estimators=200,\n",
    " algorithm=\"SAMME.R\", learning_rate=0.7)\n",
    "ada_clf.fit(x_train, y_train)\n",
    "\n",
    "y_pred = ada_clf.predict(x_test)\n",
    "print(\"The confusion matrix is given by: \")\n",
    "print(confusion_matrix(y_test, y_pred))\n",
    "print(f'The f1 score is {f1_score(y_test, y_pred)}')\n",
    "print(f'The accuracy score is {accuracy_score(y_test, y_pred)}')\n",
    "print(\"The classification report is: \")\n",
    "print(classification_report(y_test, y_pred))"
   ]
  },
  {
   "cell_type": "markdown",
   "id": "608159a9",
   "metadata": {},
   "source": [
    "### ANN"
   ]
  },
  {
   "cell_type": "code",
   "execution_count": 173,
   "id": "cf102a13",
   "metadata": {},
   "outputs": [],
   "source": [
    "from tensorflow import keras\n",
    "from keras.layers import Dense, Input, Dropout\n",
    "from keras.models import Sequential"
   ]
  },
  {
   "cell_type": "code",
   "execution_count": 174,
   "id": "bb00e846",
   "metadata": {},
   "outputs": [],
   "source": [
    "model = Sequential()\n",
    "model.add(Input(shape = (x_train.shape[1:])))\n",
    "model.add(Dense(1000, kernel_initializer='normal', activation = 'relu'))\n",
    "model.add(Dense(800, kernel_initializer='normal', activation = 'relu'))\n",
    "model.add(Dense(500, kernel_initializer='normal', activation = 'relu'))\n",
    "model.add(Dense(300, kernel_initializer='normal', activation = 'relu'))\n",
    "model.add(Dense(100, kernel_initializer='normal', activation = 'relu'))\n",
    "model.add(Dense(50, kernel_initializer='normal', activation = 'relu'))\n",
    "model.add(Dense(1, activation = 'sigmoid'))"
   ]
  },
  {
   "cell_type": "code",
   "execution_count": 175,
   "id": "08795e00",
   "metadata": {},
   "outputs": [],
   "source": [
    "model.compile(optimizer='adam', loss='binary_crossentropy', metrics = ['accuracy'])"
   ]
  },
  {
   "cell_type": "code",
   "execution_count": 176,
   "id": "00a9fe23",
   "metadata": {},
   "outputs": [
    {
     "name": "stdout",
     "output_type": "stream",
     "text": [
      "Epoch 1/35\n",
      "87/87 [==============================] - 5s 38ms/step - loss: 0.5651 - accuracy: 0.7396 - val_loss: 0.6546 - val_accuracy: 0.6067\n",
      "Epoch 2/35\n",
      "87/87 [==============================] - 3s 31ms/step - loss: 0.4476 - accuracy: 0.7846 - val_loss: 0.4875 - val_accuracy: 0.7562\n",
      "Epoch 3/35\n",
      "87/87 [==============================] - 3s 29ms/step - loss: 0.4070 - accuracy: 0.8260 - val_loss: 1.1816 - val_accuracy: 0.6923\n",
      "Epoch 4/35\n",
      "87/87 [==============================] - 3s 29ms/step - loss: 0.4290 - accuracy: 0.8184 - val_loss: 0.2704 - val_accuracy: 0.8926\n",
      "Epoch 5/35\n",
      "87/87 [==============================] - 3s 29ms/step - loss: 0.3010 - accuracy: 0.8907 - val_loss: 0.4353 - val_accuracy: 0.8360\n",
      "Epoch 6/35\n",
      "87/87 [==============================] - 3s 29ms/step - loss: 0.2944 - accuracy: 0.8867 - val_loss: 0.2013 - val_accuracy: 0.9390\n",
      "Epoch 7/35\n",
      "87/87 [==============================] - 3s 30ms/step - loss: 0.2435 - accuracy: 0.9186 - val_loss: 0.2406 - val_accuracy: 0.9071\n",
      "Epoch 8/35\n",
      "87/87 [==============================] - 2s 29ms/step - loss: 0.2667 - accuracy: 0.9034 - val_loss: 0.1926 - val_accuracy: 0.9289\n",
      "Epoch 9/35\n",
      "87/87 [==============================] - 3s 29ms/step - loss: 0.2163 - accuracy: 0.9284 - val_loss: 0.2218 - val_accuracy: 0.9202\n",
      "Epoch 10/35\n",
      "87/87 [==============================] - 3s 29ms/step - loss: 0.2288 - accuracy: 0.9219 - val_loss: 0.1819 - val_accuracy: 0.9274\n",
      "Epoch 11/35\n",
      "87/87 [==============================] - 3s 29ms/step - loss: 0.2012 - accuracy: 0.9343 - val_loss: 0.2087 - val_accuracy: 0.9057\n",
      "Epoch 12/35\n",
      "87/87 [==============================] - 3s 30ms/step - loss: 0.2096 - accuracy: 0.9288 - val_loss: 0.1682 - val_accuracy: 0.9478\n",
      "Epoch 13/35\n",
      "87/87 [==============================] - 3s 29ms/step - loss: 0.2009 - accuracy: 0.9306 - val_loss: 0.4738 - val_accuracy: 0.8041\n",
      "Epoch 14/35\n",
      "87/87 [==============================] - 3s 29ms/step - loss: 0.2221 - accuracy: 0.9219 - val_loss: 0.1943 - val_accuracy: 0.9202\n",
      "Epoch 15/35\n",
      "87/87 [==============================] - 3s 29ms/step - loss: 0.1937 - accuracy: 0.9361 - val_loss: 0.1774 - val_accuracy: 0.9390\n",
      "Epoch 16/35\n",
      "87/87 [==============================] - 3s 32ms/step - loss: 0.2067 - accuracy: 0.9241 - val_loss: 0.2341 - val_accuracy: 0.9129\n",
      "Epoch 17/35\n",
      "87/87 [==============================] - 3s 29ms/step - loss: 0.1852 - accuracy: 0.9368 - val_loss: 0.1797 - val_accuracy: 0.9376\n",
      "Epoch 18/35\n",
      "87/87 [==============================] - 3s 29ms/step - loss: 0.2458 - accuracy: 0.9034 - val_loss: 0.1738 - val_accuracy: 0.9434\n",
      "Epoch 19/35\n",
      "87/87 [==============================] - 3s 29ms/step - loss: 0.1965 - accuracy: 0.9332 - val_loss: 0.1914 - val_accuracy: 0.9245\n",
      "Epoch 20/35\n",
      "87/87 [==============================] - 3s 30ms/step - loss: 0.1840 - accuracy: 0.9368 - val_loss: 0.1675 - val_accuracy: 0.9274\n",
      "Epoch 21/35\n",
      "87/87 [==============================] - 3s 29ms/step - loss: 0.1771 - accuracy: 0.9397 - val_loss: 0.1713 - val_accuracy: 0.9550\n",
      "Epoch 22/35\n",
      "87/87 [==============================] - 3s 29ms/step - loss: 0.1860 - accuracy: 0.9335 - val_loss: 0.2045 - val_accuracy: 0.9376\n",
      "Epoch 23/35\n",
      "87/87 [==============================] - 3s 29ms/step - loss: 0.1932 - accuracy: 0.9332 - val_loss: 0.1447 - val_accuracy: 0.9536\n",
      "Epoch 24/35\n",
      "87/87 [==============================] - 3s 32ms/step - loss: 0.1752 - accuracy: 0.9419 - val_loss: 0.2149 - val_accuracy: 0.9216\n",
      "Epoch 25/35\n",
      "87/87 [==============================] - 3s 30ms/step - loss: 0.1758 - accuracy: 0.9401 - val_loss: 0.2416 - val_accuracy: 0.9187\n",
      "Epoch 26/35\n",
      "87/87 [==============================] - 3s 29ms/step - loss: 0.2410 - accuracy: 0.8972 - val_loss: 0.1934 - val_accuracy: 0.9405\n",
      "Epoch 27/35\n",
      "87/87 [==============================] - 3s 31ms/step - loss: 0.1824 - accuracy: 0.9372 - val_loss: 0.2014 - val_accuracy: 0.9158\n",
      "Epoch 28/35\n",
      "87/87 [==============================] - 3s 30ms/step - loss: 0.1782 - accuracy: 0.9372 - val_loss: 0.1602 - val_accuracy: 0.9303\n",
      "Epoch 29/35\n",
      "87/87 [==============================] - 3s 31ms/step - loss: 0.1621 - accuracy: 0.9412 - val_loss: 0.1478 - val_accuracy: 0.9608\n",
      "Epoch 30/35\n",
      "87/87 [==============================] - 3s 29ms/step - loss: 0.1797 - accuracy: 0.9364 - val_loss: 0.1394 - val_accuracy: 0.9521\n",
      "Epoch 31/35\n",
      "87/87 [==============================] - 3s 30ms/step - loss: 0.1611 - accuracy: 0.9441 - val_loss: 0.1583 - val_accuracy: 0.9332\n",
      "Epoch 32/35\n",
      "87/87 [==============================] - 3s 29ms/step - loss: 0.1589 - accuracy: 0.9397 - val_loss: 0.1526 - val_accuracy: 0.9550\n",
      "Epoch 33/35\n",
      "87/87 [==============================] - 3s 29ms/step - loss: 0.2067 - accuracy: 0.9241 - val_loss: 0.1650 - val_accuracy: 0.9332\n",
      "Epoch 34/35\n",
      "87/87 [==============================] - 3s 30ms/step - loss: 0.1734 - accuracy: 0.9364 - val_loss: 0.1732 - val_accuracy: 0.9550\n",
      "Epoch 35/35\n",
      "87/87 [==============================] - 3s 29ms/step - loss: 0.2076 - accuracy: 0.9335 - val_loss: 0.1815 - val_accuracy: 0.9478\n"
     ]
    },
    {
     "data": {
      "text/plain": [
       "<keras.src.callbacks.History at 0x20872a5a190>"
      ]
     },
     "execution_count": 176,
     "metadata": {},
     "output_type": "execute_result"
    }
   ],
   "source": [
    "model.fit(x_train, y_train, epochs=35, validation_split=0.2)"
   ]
  },
  {
   "cell_type": "code",
   "execution_count": 177,
   "id": "bb04cb12",
   "metadata": {},
   "outputs": [
    {
     "name": "stdout",
     "output_type": "stream",
     "text": [
      "27/27 [==============================] - 0s 6ms/step\n",
      "The confusion matrix is given by: \n",
      "[[598   2]\n",
      " [ 51 210]]\n",
      "The f1 score is 0.8879492600422834\n",
      "The accuracy score is 0.9384436701509872\n",
      "The classification report is: \n",
      "              precision    recall  f1-score   support\n",
      "\n",
      "           0       0.92      1.00      0.96       600\n",
      "           1       0.99      0.80      0.89       261\n",
      "\n",
      "    accuracy                           0.94       861\n",
      "   macro avg       0.96      0.90      0.92       861\n",
      "weighted avg       0.94      0.94      0.94       861\n",
      "\n"
     ]
    }
   ],
   "source": [
    "y_pred = model.predict(x_test)\n",
    "y_pred = [1 if pred > 0.5 else 0 for pred in y_pred]\n",
    "\n",
    "print(\"The confusion matrix is given by: \")\n",
    "print(confusion_matrix(y_test, y_pred))\n",
    "print(f'The f1 score is {f1_score(y_test, y_pred)}')\n",
    "print(f'The accuracy score is {accuracy_score(y_test, y_pred)}')\n",
    "print(\"The classification report is: \")\n",
    "print(classification_report(y_test, y_pred))"
   ]
  },
  {
   "cell_type": "markdown",
   "id": "51411459",
   "metadata": {},
   "source": [
    "### Using hybrid model with clustering + model with highest accuracy"
   ]
  },
  {
   "cell_type": "code",
   "execution_count": 178,
   "id": "b6046e17",
   "metadata": {},
   "outputs": [],
   "source": [
    "from sklearn.cluster import KMeans\n",
    "from sklearn.metrics import silhouette_score\n",
    "SS = []\n",
    "for i in range(2, 11):\n",
    "    kmeans = KMeans(n_clusters = i, init = 'k-means++', random_state = 42)\n",
    "    kmeans.fit(x_train2)\n",
    "    score = silhouette_score(x_train2, kmeans.labels_)\n",
    "    SS.append(score)"
   ]
  },
  {
   "cell_type": "code",
   "execution_count": 179,
   "id": "5ad2791a",
   "metadata": {},
   "outputs": [
    {
     "data": {
      "image/png": "[encoded data removed]",
      "text/plain": [
       "<Figure size 640x480 with 1 Axes>"
      ]
     },
     "metadata": {},
     "output_type": "display_data"
    }
   ],
   "source": [
    "plt.plot(range(2, 11), SS)\n",
    "plt.title(\"The SS Graph\")\n",
    "plt.xlabel(\"No. of clusters\")\n",
    "plt.ylabel(\"The SS values\")\n",
    "plt.show()"
   ]
  },
  {
   "cell_type": "code",
   "execution_count": 180,
   "id": "301238de",
   "metadata": {},
   "outputs": [],
   "source": [
    "n = 3\n",
    "kmeans = KMeans(n_clusters = n, init = \"k-means++\", random_state = 42)\n",
    "kmeans.fit(x_train2)\n",
    "y_pred_train = kmeans.predict(x_train2)"
   ]
  },
  {
   "cell_type": "code",
   "execution_count": 181,
   "id": "5cbe0da1",
   "metadata": {},
   "outputs": [],
   "source": [
    "model_RFC = dict()\n",
    "\n",
    "for i in range (n):\n",
    "    c = []\n",
    "    p = 0\n",
    "    for j in y_pred_train:\n",
    "        if (j==i):\n",
    "            c.append(p)\n",
    "        p = p + 1\n",
    "        \n",
    "    y_train_np = np.array(y_train)\n",
    "    y_train2 = y_train_np[c]\n",
    "    x_train3 = x_train2[c]\n",
    "    \n",
    "    model = RandomForestClassifier(n_estimators = 270)\n",
    "    model.fit(x_train3, y_train2)\n",
    "    \n",
    "    model_RFC[i] = model\n"
   ]
  },
  {
   "cell_type": "code",
   "execution_count": 182,
   "id": "c33f96b1",
   "metadata": {},
   "outputs": [
    {
     "data": {
      "text/plain": [
       "{0: RandomForestClassifier(n_estimators=270),\n",
       " 1: RandomForestClassifier(n_estimators=270),\n",
       " 2: RandomForestClassifier(n_estimators=270)}"
      ]
     },
     "execution_count": 182,
     "metadata": {},
     "output_type": "execute_result"
    }
   ],
   "source": [
    "model_RFC"
   ]
  },
  {
   "cell_type": "code",
   "execution_count": 183,
   "id": "2c32fb03",
   "metadata": {},
   "outputs": [],
   "source": [
    "y_pred_test = kmeans.predict(x_test2)"
   ]
  },
  {
   "cell_type": "code",
   "execution_count": 184,
   "id": "3401b48c",
   "metadata": {},
   "outputs": [
    {
     "name": "stdout",
     "output_type": "stream",
     "text": [
      "The confusion matrix is given by: \n",
      "[[ 0  1]\n",
      " [ 0 74]]\n",
      "The f1 score is 0.9932885906040269\n",
      "The accuracy score is 0.9866666666666667\n",
      "The classification report is: \n",
      "              precision    recall  f1-score   support\n",
      "\n",
      "           0       0.00      0.00      0.00         1\n",
      "           1       0.99      1.00      0.99        74\n",
      "\n",
      "    accuracy                           0.99        75\n",
      "   macro avg       0.49      0.50      0.50        75\n",
      "weighted avg       0.97      0.99      0.98        75\n",
      "\n",
      "The confusion matrix is given by: \n",
      "[[ 23   9]\n",
      " [  6 157]]\n",
      "The f1 score is 0.9544072948328267\n",
      "The accuracy score is 0.9230769230769231\n",
      "The classification report is: \n",
      "              precision    recall  f1-score   support\n",
      "\n",
      "           0       0.79      0.72      0.75        32\n",
      "           1       0.95      0.96      0.95       163\n",
      "\n",
      "    accuracy                           0.92       195\n",
      "   macro avg       0.87      0.84      0.85       195\n",
      "weighted avg       0.92      0.92      0.92       195\n",
      "\n",
      "The confusion matrix is given by: \n",
      "[[563   4]\n",
      " [  9  15]]\n",
      "The f1 score is 0.6976744186046512\n",
      "The accuracy score is 0.9780033840947546\n",
      "The classification report is: \n",
      "              precision    recall  f1-score   support\n",
      "\n",
      "           0       0.98      0.99      0.99       567\n",
      "           1       0.79      0.62      0.70        24\n",
      "\n",
      "    accuracy                           0.98       591\n",
      "   macro avg       0.89      0.81      0.84       591\n",
      "weighted avg       0.98      0.98      0.98       591\n",
      "\n",
      "Overall accuracy =  0.9625823246127814\n",
      "Overall F1 score =  0.8817901013471682\n"
     ]
    },
    {
     "name": "stderr",
     "output_type": "stream",
     "text": [
      "D:\\anaconda3\\lib\\site-packages\\sklearn\\metrics\\_classification.py:1318: UndefinedMetricWarning: Precision and F-score are ill-defined and being set to 0.0 in labels with no predicted samples. Use `zero_division` parameter to control this behavior.\n",
      "  _warn_prf(average, modifier, msg_start, len(result))\n",
      "D:\\anaconda3\\lib\\site-packages\\sklearn\\metrics\\_classification.py:1318: UndefinedMetricWarning: Precision and F-score are ill-defined and being set to 0.0 in labels with no predicted samples. Use `zero_division` parameter to control this behavior.\n",
      "  _warn_prf(average, modifier, msg_start, len(result))\n",
      "D:\\anaconda3\\lib\\site-packages\\sklearn\\metrics\\_classification.py:1318: UndefinedMetricWarning: Precision and F-score are ill-defined and being set to 0.0 in labels with no predicted samples. Use `zero_division` parameter to control this behavior.\n",
      "  _warn_prf(average, modifier, msg_start, len(result))\n"
     ]
    }
   ],
   "source": [
    "accuracy = []\n",
    "f1 = []\n",
    "for i, j in model_RFC.items():\n",
    "    c = []\n",
    "    p = 0\n",
    "    for k in y_pred_test:\n",
    "        if (k==i):\n",
    "            c.append(p)\n",
    "        p = p + 1  \n",
    "    y_test_np = np.array(y_test)\n",
    "    y_test2 = y_test_np[c]   \n",
    "    x_test3 = x_test2[c]\n",
    "    \n",
    "    y_pred = j.predict(x_test3)\n",
    "    print(\"The confusion matrix is given by: \")\n",
    "    print(confusion_matrix(y_test2, y_pred))\n",
    "    print(f'The f1 score is {f1_score(y_test2, y_pred)}')\n",
    "    print(f'The accuracy score is {accuracy_score(y_test2, y_pred)}')\n",
    "    print(\"The classification report is: \")\n",
    "    print(classification_report(y_test2, y_pred))\n",
    "    accuracy.append(accuracy_score(y_test2, y_pred))\n",
    "    f1.append(f1_score(y_test2, y_pred))\n",
    "print(\"Overall accuracy = \", sum(accuracy)/3)\n",
    "print(\"Overall F1 score = \", sum(f1)/3)"
   ]
  },
  {
   "cell_type": "markdown",
   "id": "bcca0f4b",
   "metadata": {},
   "source": [
    "# Clustering analysis"
   ]
  },
  {
   "cell_type": "code",
   "execution_count": 185,
   "id": "3444137a",
   "metadata": {},
   "outputs": [
    {
     "data": {
      "text/plain": [
       "KMeans(n_clusters=3, random_state=42)"
      ]
     },
     "execution_count": 185,
     "metadata": {},
     "output_type": "execute_result"
    }
   ],
   "source": [
    "n = 3\n",
    "kmeans = KMeans(n_clusters = n, init = \"k-means++\", random_state = 42)\n",
    "kmeans.fit(x_train2)"
   ]
  },
  {
   "cell_type": "code",
   "execution_count": 186,
   "id": "24bffd05",
   "metadata": {},
   "outputs": [],
   "source": [
    "y_pred_train = kmeans.predict(x_train2)\n",
    "pred_train = list(y_pred_train)\n",
    "original_train = list(y_train)"
   ]
  },
  {
   "cell_type": "code",
   "execution_count": 187,
   "id": "bdb3e775",
   "metadata": {},
   "outputs": [],
   "source": [
    "y_pred_test = kmeans.predict(x_test2)\n",
    "pred_test = list(y_pred_test)\n",
    "original_test = list(y_test)"
   ]
  },
  {
   "cell_type": "markdown",
   "id": "c14fb76e",
   "metadata": {},
   "source": [
    "### Test set "
   ]
  },
  {
   "cell_type": "code",
   "execution_count": 188,
   "id": "c9d82a4e",
   "metadata": {},
   "outputs": [],
   "source": [
    "c = 0\n",
    "pos_test = []\n",
    "for pred in original_test:\n",
    "    if pred==1:\n",
    "        pos_test.append(c)\n",
    "    c = c+1"
   ]
  },
  {
   "cell_type": "code",
   "execution_count": 189,
   "id": "afc2251a",
   "metadata": {},
   "outputs": [],
   "source": [
    "cluster_values_test = []\n",
    "for pos in pos_test:\n",
    "    cluster_values_test.append(pred_test[pos])"
   ]
  },
  {
   "cell_type": "code",
   "execution_count": 190,
   "id": "274ab81a",
   "metadata": {},
   "outputs": [],
   "source": [
    "df_test_set = pd.DataFrame(columns = [\"cluster_values\"])\n",
    "df_test_set[\"cluster_values\"] = cluster_values_test"
   ]
  },
  {
   "cell_type": "code",
   "execution_count": 191,
   "id": "6aec1ab4",
   "metadata": {},
   "outputs": [
    {
     "data": {
      "text/plain": [
       "261"
      ]
     },
     "execution_count": 191,
     "metadata": {},
     "output_type": "execute_result"
    }
   ],
   "source": [
    "len(pos_test)"
   ]
  },
  {
   "cell_type": "code",
   "execution_count": 192,
   "id": "a0ccd5e6",
   "metadata": {},
   "outputs": [
    {
     "data": {
      "text/plain": [
       "1    163\n",
       "0     74\n",
       "2     24\n",
       "Name: cluster_values, dtype: int64"
      ]
     },
     "execution_count": 192,
     "metadata": {},
     "output_type": "execute_result"
    }
   ],
   "source": [
    "df_test_set[\"cluster_values\"].value_counts()"
   ]
  },
  {
   "cell_type": "markdown",
   "id": "e4fb1aef",
   "metadata": {},
   "source": [
    "### Training set"
   ]
  },
  {
   "cell_type": "code",
   "execution_count": 193,
   "id": "9589217f",
   "metadata": {},
   "outputs": [],
   "source": [
    "c = 0\n",
    "pos_train = []\n",
    "for pred in original_train:\n",
    "    if pred==1:\n",
    "        pos_train.append(c)\n",
    "    c = c+1"
   ]
  },
  {
   "cell_type": "code",
   "execution_count": 194,
   "id": "499b90b8",
   "metadata": {},
   "outputs": [],
   "source": [
    "cluster_values_train = []\n",
    "for pos in pos_train:\n",
    "    cluster_values_train.append(pred_train[pos])"
   ]
  },
  {
   "cell_type": "code",
   "execution_count": 195,
   "id": "add2b768",
   "metadata": {},
   "outputs": [],
   "source": [
    "df_train_set = pd.DataFrame(columns = [\"cluster_values\"])\n",
    "df_train_set[\"cluster_values\"] = cluster_values_train"
   ]
  },
  {
   "cell_type": "code",
   "execution_count": 196,
   "id": "95791c26",
   "metadata": {},
   "outputs": [
    {
     "data": {
      "text/plain": [
       "1042"
      ]
     },
     "execution_count": 196,
     "metadata": {},
     "output_type": "execute_result"
    }
   ],
   "source": [
    "len(pos_train) #total no. of diabetes patients in train set"
   ]
  },
  {
   "cell_type": "code",
   "execution_count": 197,
   "id": "2500cdf6",
   "metadata": {},
   "outputs": [
    {
     "data": {
      "text/plain": [
       "1    592\n",
       "0    334\n",
       "2    116\n",
       "Name: cluster_values, dtype: int64"
      ]
     },
     "execution_count": 197,
     "metadata": {},
     "output_type": "execute_result"
    }
   ],
   "source": [
    "df_train_set[\"cluster_values\"].value_counts()"
   ]
  },
  {
   "cell_type": "markdown",
   "id": "1423bbcb",
   "metadata": {},
   "source": [
    "### For non-diabetes patients"
   ]
  },
  {
   "cell_type": "markdown",
   "id": "c22950e6",
   "metadata": {},
   "source": [
    "### For test set"
   ]
  },
  {
   "cell_type": "code",
   "execution_count": 198,
   "id": "de3b68b8",
   "metadata": {},
   "outputs": [],
   "source": [
    "c = 0\n",
    "pos_test = []\n",
    "for pred in original_test:\n",
    "    if pred==0:\n",
    "        pos_test.append(c)\n",
    "    c = c+1"
   ]
  },
  {
   "cell_type": "code",
   "execution_count": 199,
   "id": "589cc966",
   "metadata": {},
   "outputs": [],
   "source": [
    "cluster_values_test = []\n",
    "for pos in pos_test:\n",
    "    cluster_values_test.append(pred_test[pos])"
   ]
  },
  {
   "cell_type": "code",
   "execution_count": 200,
   "id": "d12bbb1f",
   "metadata": {},
   "outputs": [],
   "source": [
    "df_test_set = pd.DataFrame(columns = [\"cluster_values\"])\n",
    "df_test_set[\"cluster_values\"] = cluster_values_test"
   ]
  },
  {
   "cell_type": "code",
   "execution_count": 201,
   "id": "29f6ddd2",
   "metadata": {},
   "outputs": [
    {
     "data": {
      "text/plain": [
       "600"
      ]
     },
     "execution_count": 201,
     "metadata": {},
     "output_type": "execute_result"
    }
   ],
   "source": [
    "len(pos_test) #total no. of non-diabetes patients in test set"
   ]
  },
  {
   "cell_type": "code",
   "execution_count": 202,
   "id": "692eb360",
   "metadata": {},
   "outputs": [
    {
     "data": {
      "text/plain": [
       "2    567\n",
       "1     32\n",
       "0      1\n",
       "Name: cluster_values, dtype: int64"
      ]
     },
     "execution_count": 202,
     "metadata": {},
     "output_type": "execute_result"
    }
   ],
   "source": [
    "df_test_set[\"cluster_values\"].value_counts()"
   ]
  },
  {
   "cell_type": "markdown",
   "id": "903ee680",
   "metadata": {},
   "source": [
    "### For training set"
   ]
  },
  {
   "cell_type": "code",
   "execution_count": 203,
   "id": "53a6aeb5",
   "metadata": {},
   "outputs": [],
   "source": [
    "c = 0\n",
    "pos_train = []\n",
    "for pred in original_train:\n",
    "    if pred==0:\n",
    "        pos_train.append(c)\n",
    "    c = c+1"
   ]
  },
  {
   "cell_type": "code",
   "execution_count": 204,
   "id": "11f21bc4",
   "metadata": {},
   "outputs": [],
   "source": [
    "cluster_values_train = []\n",
    "for pos in pos_train:\n",
    "    cluster_values_train.append(pred_train[pos])"
   ]
  },
  {
   "cell_type": "code",
   "execution_count": 205,
   "id": "bd28bdd8",
   "metadata": {},
   "outputs": [],
   "source": [
    "df_train_set = pd.DataFrame(columns = [\"cluster_values\"])\n",
    "df_train_set[\"cluster_values\"] = cluster_values_train"
   ]
  },
  {
   "cell_type": "code",
   "execution_count": 206,
   "id": "11a37fe9",
   "metadata": {},
   "outputs": [
    {
     "data": {
      "text/plain": [
       "2400"
      ]
     },
     "execution_count": 206,
     "metadata": {},
     "output_type": "execute_result"
    }
   ],
   "source": [
    "len(pos_train) #total no. of non-diabetes patients in train set"
   ]
  },
  {
   "cell_type": "code",
   "execution_count": 207,
   "id": "4909667d",
   "metadata": {},
   "outputs": [
    {
     "data": {
      "text/plain": [
       "2    2259\n",
       "1     140\n",
       "0       1\n",
       "Name: cluster_values, dtype: int64"
      ]
     },
     "execution_count": 207,
     "metadata": {},
     "output_type": "execute_result"
    }
   ],
   "source": [
    "df_train_set[\"cluster_values\"].value_counts()"
   ]
  },
  {
   "cell_type": "code",
   "execution_count": 208,
   "id": "ebd63775",
   "metadata": {},
   "outputs": [
    {
     "data": {
      "text/plain": [
       "335"
      ]
     },
     "execution_count": 208,
     "metadata": {},
     "output_type": "execute_result"
    }
   ],
   "source": [
    "pred_train.count(0)"
   ]
  },
  {
   "cell_type": "code",
   "execution_count": 209,
   "id": "ae276429",
   "metadata": {},
   "outputs": [
    {
     "data": {
      "text/plain": [
       "732"
      ]
     },
     "execution_count": 209,
     "metadata": {},
     "output_type": "execute_result"
    }
   ],
   "source": [
    "pred_train.count(1)"
   ]
  },
  {
   "cell_type": "code",
   "execution_count": 210,
   "id": "6bd4f222",
   "metadata": {},
   "outputs": [
    {
     "data": {
      "text/plain": [
       "2375"
      ]
     },
     "execution_count": 210,
     "metadata": {},
     "output_type": "execute_result"
    }
   ],
   "source": [
    "pred_train.count(2)"
   ]
  },
  {
   "cell_type": "code",
   "execution_count": null,
   "id": "955ef870",
   "metadata": {},
   "outputs": [],
   "source": []
  },
  {
   "cell_type": "code",
   "execution_count": 211,
   "id": "733ef731",
   "metadata": {},
   "outputs": [
    {
     "data": {
      "text/plain": [
       "75"
      ]
     },
     "execution_count": 211,
     "metadata": {},
     "output_type": "execute_result"
    }
   ],
   "source": [
    "pred_test.count(0)"
   ]
  },
  {
   "cell_type": "code",
   "execution_count": 212,
   "id": "5365b2dc",
   "metadata": {},
   "outputs": [
    {
     "data": {
      "text/plain": [
       "195"
      ]
     },
     "execution_count": 212,
     "metadata": {},
     "output_type": "execute_result"
    }
   ],
   "source": [
    "pred_test.count(1)"
   ]
  },
  {
   "cell_type": "code",
   "execution_count": 213,
   "id": "c4acec57",
   "metadata": {},
   "outputs": [
    {
     "data": {
      "text/plain": [
       "591"
      ]
     },
     "execution_count": 213,
     "metadata": {},
     "output_type": "execute_result"
    }
   ],
   "source": [
    "pred_test.count(2)"
   ]
  }
 ],
 "metadata": {
  "kernelspec": {
   "display_name": "Python 3 (ipykernel)",
   "language": "python",
   "name": "python3"
  },
  "language_info": {
   "codemirror_mode": {
    "name": "ipython",
    "version": 3
   },
   "file_extension": ".py",
   "mimetype": "text/x-python",
   "name": "python",
   "nbconvert_exporter": "python",
   "pygments_lexer": "ipython3",
   "version": "3.9.13"
  }
 },
 "nbformat": 4,
 "nbformat_minor": 5
}
